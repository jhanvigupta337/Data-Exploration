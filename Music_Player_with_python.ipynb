{
  "nbformat": 4,
  "nbformat_minor": 0,
  "metadata": {
    "colab": {
      "provenance": [],
      "authorship_tag": "ABX9TyMfAblNa6VxfiouXlYtnRRi",
      "include_colab_link": true
    },
    "kernelspec": {
      "name": "python3",
      "display_name": "Python 3"
    },
    "language_info": {
      "name": "python"
    }
  },
  "cells": [
    {
      "cell_type": "markdown",
      "metadata": {
        "id": "view-in-github",
        "colab_type": "text"
      },
      "source": [
        "<a href=\"https://colab.research.google.com/github/jhanvigupta337/Data-Exploration/blob/main/Music_Player_with_python.ipynb\" target=\"_parent\"><img src=\"https://colab.research.google.com/assets/colab-badge.svg\" alt=\"Open In Colab\"/></a>"
      ]
    },
    {
      "cell_type": "code",
      "execution_count": 1,
      "metadata": {
        "colab": {
          "base_uri": "https://localhost:8080/",
          "height": 245
        },
        "id": "isQW9HomOwL6",
        "outputId": "ce884e6b-d8c1-4aba-f46e-aa3ad11e65ab"
      },
      "outputs": [
        {
          "output_type": "stream",
          "name": "stdout",
          "text": [
            "pygame 2.6.1 (SDL 2.28.4, Python 3.11.11)\n",
            "Hello from the pygame community. https://www.pygame.org/contribute.html\n"
          ]
        },
        {
          "output_type": "error",
          "ename": "error",
          "evalue": "ALSA: Couldn't open audio device: No such file or directory",
          "traceback": [
            "\u001b[0;31m---------------------------------------------------------------------------\u001b[0m",
            "\u001b[0;31merror\u001b[0m                                     Traceback (most recent call last)",
            "\u001b[0;32m<ipython-input-1-d444e6e66306>\u001b[0m in \u001b[0;36m<cell line: 0>\u001b[0;34m()\u001b[0m\n\u001b[1;32m      4\u001b[0m \u001b[0;32mfrom\u001b[0m \u001b[0mtkinter\u001b[0m \u001b[0;32mimport\u001b[0m \u001b[0mfiledialog\u001b[0m\u001b[0;34m\u001b[0m\u001b[0;34m\u001b[0m\u001b[0m\n\u001b[1;32m      5\u001b[0m \u001b[0mpygame\u001b[0m\u001b[0;34m.\u001b[0m\u001b[0minit\u001b[0m\u001b[0;34m(\u001b[0m\u001b[0;34m)\u001b[0m\u001b[0;34m\u001b[0m\u001b[0;34m\u001b[0m\u001b[0m\n\u001b[0;32m----> 6\u001b[0;31m \u001b[0mpygame\u001b[0m\u001b[0;34m.\u001b[0m\u001b[0mmixer\u001b[0m\u001b[0;34m.\u001b[0m\u001b[0minit\u001b[0m\u001b[0;34m(\u001b[0m\u001b[0;34m)\u001b[0m\u001b[0;34m\u001b[0m\u001b[0;34m\u001b[0m\u001b[0m\n\u001b[0m\u001b[1;32m      7\u001b[0m \u001b[0;32mclass\u001b[0m \u001b[0mMusicPlayer\u001b[0m\u001b[0;34m:\u001b[0m\u001b[0;34m\u001b[0m\u001b[0;34m\u001b[0m\u001b[0m\n\u001b[1;32m      8\u001b[0m     \u001b[0;32mdef\u001b[0m \u001b[0m_init_\u001b[0m\u001b[0;34m(\u001b[0m\u001b[0mself\u001b[0m\u001b[0;34m,\u001b[0m \u001b[0mroot\u001b[0m\u001b[0;34m)\u001b[0m\u001b[0;34m:\u001b[0m\u001b[0;34m\u001b[0m\u001b[0;34m\u001b[0m\u001b[0m\n",
            "\u001b[0;31merror\u001b[0m: ALSA: Couldn't open audio device: No such file or directory"
          ]
        }
      ],
      "source": [
        "import os\n",
        "import pygame\n",
        "import tkinter as tk\n",
        "from tkinter import filedialog\n",
        "pygame.init()\n",
        "pygame.mixer.init()\n",
        "class MusicPlayer:\n",
        "    def _init_(self, root):\n",
        "        self.root = root\n",
        "        self.root.title(\"Music Player\")\n",
        "        self.root.geometry(\"500x200\")\n",
        "\n",
        "        self.music_file = None\n",
        "        self.playing = False\n",
        "\n",
        "        # Create GUI elements\n",
        "        self.label = tk.Label(root, text=\"Music Player\", font=(\"Helvetica\", 20))\n",
        "        self.label.pack(pady=10)\n",
        "\n",
        "        self.select_button = tk.Button(root, text=\"Select Music\", command=self.browse_file)\n",
        "        self.select_button.pack(pady=5)\n",
        "\n",
        "        self.play_button = tk.Button(root, text=\"Play\", command=self.play_music)\n",
        "        self.play_button.pack(pady=5)\n",
        "\n",
        "        self.stop_button = tk.Button(root, text=\"Stop\", command=self.stop_music)\n",
        "        self.stop_button.pack(pady=5)\n",
        "\n",
        "    def browse_file(self):\n",
        "        self.music_file = filedialog.askopenfilename(defaultextension=\".mp3\", filetypes=[(\"MP3 Files\", \"*.mp3\")])\n",
        "\n",
        "    def play_music(self):\n",
        "        if self.music_file:\n",
        "            if not self.playing:\n",
        "                pygame.mixer.music.load(self.music_file)\n",
        "                pygame.mixer.music.play()\n",
        "                self.playing = True\n",
        "\n",
        "    def stop_music(self):\n",
        "        if self.playing:\n",
        "            pygame.mixer.music.stop()\n",
        "            self.playing = False\n",
        "\n",
        "\n",
        "if _name_ == \"_main_\":\n",
        "    root = tk.Tk()\n",
        "    app = MusicPlayer(root)\n",
        "    root.mainloop()"
      ]
    }
  ]
}